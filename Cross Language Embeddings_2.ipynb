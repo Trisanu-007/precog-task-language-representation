{
 "cells": [
  {
   "cell_type": "code",
   "execution_count": 1,
   "metadata": {
    "colab": {
     "base_uri": "https://localhost:8080/"
    },
    "executionInfo": {
     "elapsed": 778,
     "status": "ok",
     "timestamp": 1758209174621,
     "user": {
      "displayName": "Trisanu Bhar",
      "userId": "05203018208049743761"
     },
     "user_tz": -330
    },
    "id": "yiU7WFmxiYTf",
    "outputId": "d3892a0d-5af4-4865-8977-318e3db06474"
   },
   "outputs": [
    {
     "name": "stdout",
     "output_type": "stream",
     "text": [
      "/content/drive/MyDrive/Precog_Task\n"
     ]
    }
   ],
   "source": [
    "cd /content/drive/MyDrive/Precog_Task/"
   ]
  },
  {
   "cell_type": "code",
   "execution_count": null,
   "metadata": {
    "executionInfo": {
     "elapsed": 52,
     "status": "ok",
     "timestamp": 1758209420134,
     "user": {
      "displayName": "Trisanu Bhar",
      "userId": "05203018208049743761"
     },
     "user_tz": -330
    },
    "id": "---ySrShh7qj"
   },
   "outputs": [],
   "source": [
    "import numpy as np\n",
    "\n",
    "def load_vec(path, max_vocab=50000):\n",
    "    words = []\n",
    "    embeddings = []\n",
    "    with open(path, 'r', encoding='utf-8', errors='ignore') as f:\n",
    "        first_line = f.readline().strip().split()\n",
    "        \n",
    "        if len(first_line) == 2 and first_line[0].isdigit():\n",
    "            pass  \n",
    "        else:\n",
    "            words.append(first_line[0])\n",
    "            embeddings.append(np.array(list(map(float, first_line[1:])), dtype=np.float32))\n",
    "        for i, line in enumerate(f):\n",
    "            if i >= max_vocab:\n",
    "                break\n",
    "            parts = line.strip().split()\n",
    "            if len(parts) < 10: \n",
    "                continue\n",
    "            word = parts[0]\n",
    "            vec = np.array(list(map(float, parts[1:])), dtype=np.float32)\n",
    "            words.append(word)\n",
    "            embeddings.append(vec)\n",
    "    return words, np.vstack(embeddings)\n"
   ]
  },
  {
   "cell_type": "code",
   "execution_count": 3,
   "metadata": {
    "executionInfo": {
     "elapsed": 4160,
     "status": "ok",
     "timestamp": 1758209425247,
     "user": {
      "displayName": "Trisanu Bhar",
      "userId": "05203018208049743761"
     },
     "user_tz": -330
    },
    "id": "eoxSaT5iicGH"
   },
   "outputs": [],
   "source": [
    "en_words, en_emb = load_vec(\"wiki.en.vec\", max_vocab=5000)   # English\n",
    "hi_words, hi_emb = load_vec(\"wiki.hi.vec\", max_vocab=5000)  # Hindi\n"
   ]
  },
  {
   "cell_type": "code",
   "execution_count": 4,
   "metadata": {
    "executionInfo": {
     "elapsed": 70,
     "status": "ok",
     "timestamp": 1758209442759,
     "user": {
      "displayName": "Trisanu Bhar",
      "userId": "05203018208049743761"
     },
     "user_tz": -330
    },
    "id": "xT-tKiHQkAVz"
   },
   "outputs": [],
   "source": [
    "en_word2id = {w: i for i, w in enumerate(en_words)}\n",
    "hi_word2id = {w: i for i, w in enumerate(hi_words)}"
   ]
  },
  {
   "cell_type": "code",
   "execution_count": 5,
   "metadata": {
    "colab": {
     "base_uri": "https://localhost:8080/"
    },
    "executionInfo": {
     "elapsed": 99,
     "status": "ok",
     "timestamp": 1758209445387,
     "user": {
      "displayName": "Trisanu Bhar",
      "userId": "05203018208049743761"
     },
     "user_tz": -330
    },
    "id": "HqnnKS9AkEYG",
    "outputId": "c7591fda-e723-43f1-b55c-9986003d354f"
   },
   "outputs": [
    {
     "name": "stdout",
     "output_type": "stream",
     "text": [
      "146\n",
      "951\n"
     ]
    }
   ],
   "source": [
    "print(en_word2id[\"december\"])\n",
    "print(hi_word2id[\"दिसंबर\"])"
   ]
  },
  {
   "cell_type": "code",
   "execution_count": 6,
   "metadata": {
    "executionInfo": {
     "elapsed": 478,
     "status": "ok",
     "timestamp": 1758209447707,
     "user": {
      "displayName": "Trisanu Bhar",
      "userId": "05203018208049743761"
     },
     "user_tz": -330
    },
    "id": "vK1TLou0kHGN"
   },
   "outputs": [],
   "source": [
    "seed = []\n",
    "with open(\"en-hi.txt\", \"r\", encoding=\"utf-8\") as f:\n",
    "    for line in f:\n",
    "        en, hi = line.strip().split()\n",
    "        if en in en_word2id and hi in hi_word2id:\n",
    "            seed.append((en_word2id[en], hi_word2id[hi]))"
   ]
  },
  {
   "cell_type": "code",
   "execution_count": 7,
   "metadata": {
    "colab": {
     "base_uri": "https://localhost:8080/"
    },
    "executionInfo": {
     "elapsed": 69,
     "status": "ok",
     "timestamp": 1758209455870,
     "user": {
      "displayName": "Trisanu Bhar",
      "userId": "05203018208049743761"
     },
     "user_tz": -330
    },
    "id": "_9Z5uRznkkP3",
    "outputId": "0a56fbfd-39ce-4659-abe6-11df5341f38e"
   },
   "outputs": [
    {
     "name": "stdout",
     "output_type": "stream",
     "text": [
      "Dictionary size used: 3572\n"
     ]
    }
   ],
   "source": [
    "print(\"Dictionary size used:\", len(seed))"
   ]
  },
  {
   "cell_type": "code",
   "execution_count": 8,
   "metadata": {
    "executionInfo": {
     "elapsed": 34,
     "status": "ok",
     "timestamp": 1758209462960,
     "user": {
      "displayName": "Trisanu Bhar",
      "userId": "05203018208049743761"
     },
     "user_tz": -330
    },
    "id": "zkfjlOtPkqhm"
   },
   "outputs": [],
   "source": [
    "def learn_procrustes(X, Y):\n",
    "    # X, Y: shape (n, d)\n",
    "    M = X.T @ Y\n",
    "    U, _, Vt = np.linalg.svd(M)\n",
    "    W = U @ Vt\n",
    "    return W"
   ]
  },
  {
   "cell_type": "code",
   "execution_count": 9,
   "metadata": {
    "executionInfo": {
     "elapsed": 45,
     "status": "ok",
     "timestamp": 1758209463215,
     "user": {
      "displayName": "Trisanu Bhar",
      "userId": "05203018208049743761"
     },
     "user_tz": -330
    },
    "id": "w43HbVpxlF6O"
   },
   "outputs": [],
   "source": [
    "X = np.array([en_emb[i] for i, _ in seed])\n",
    "Y = np.array([hi_emb[j] for _, j in seed])"
   ]
  },
  {
   "cell_type": "code",
   "execution_count": 10,
   "metadata": {
    "colab": {
     "base_uri": "https://localhost:8080/"
    },
    "executionInfo": {
     "elapsed": 144,
     "status": "ok",
     "timestamp": 1758209465465,
     "user": {
      "displayName": "Trisanu Bhar",
      "userId": "05203018208049743761"
     },
     "user_tz": -330
    },
    "id": "rHcHj1uZlGW7",
    "outputId": "caeb16cd-1965-43aa-c52b-4ce21be4ffdc"
   },
   "outputs": [
    {
     "name": "stdout",
     "output_type": "stream",
     "text": [
      "Learned mapping W with shape: (300, 300)\n"
     ]
    }
   ],
   "source": [
    "W = learn_procrustes(X, Y)\n",
    "print(\"Learned mapping W with shape:\", W.shape)"
   ]
  },
  {
   "cell_type": "code",
   "execution_count": 11,
   "metadata": {
    "executionInfo": {
     "elapsed": 83,
     "status": "ok",
     "timestamp": 1758209467361,
     "user": {
      "displayName": "Trisanu Bhar",
      "userId": "05203018208049743761"
     },
     "user_tz": -330
    },
    "id": "XQUOC_0YlItO"
   },
   "outputs": [],
   "source": [
    "en_mapped = en_emb @ W"
   ]
  },
  {
   "cell_type": "code",
   "execution_count": 12,
   "metadata": {
    "executionInfo": {
     "elapsed": 47,
     "status": "ok",
     "timestamp": 1758209467515,
     "user": {
      "displayName": "Trisanu Bhar",
      "userId": "05203018208049743761"
     },
     "user_tz": -330
    },
    "id": "FGLdzAgslMWt"
   },
   "outputs": [],
   "source": [
    "def l2_normalize(mat):\n",
    "    return mat / (np.linalg.norm(mat, axis=1, keepdims=True) + 1e-8)\n",
    "\n",
    "en_mapped = l2_normalize(en_mapped)\n",
    "hi_emb = l2_normalize(hi_emb)"
   ]
  },
  {
   "cell_type": "code",
   "execution_count": 13,
   "metadata": {
    "executionInfo": {
     "elapsed": 49,
     "status": "ok",
     "timestamp": 1758209469072,
     "user": {
      "displayName": "Trisanu Bhar",
      "userId": "05203018208049743761"
     },
     "user_tz": -330
    },
    "id": "OrDypqETlWHz"
   },
   "outputs": [],
   "source": [
    "def get_translation(word, k=5):\n",
    "    if word not in en_word2id:\n",
    "        return None\n",
    "    idx = en_word2id[word]\n",
    "    vec = en_mapped[idx]\n",
    "    sims = hi_emb @ vec\n",
    "    best = sims.argsort()[-k:][::-1]\n",
    "    return [(hi_words[j], float(sims[j])) for j in best]"
   ]
  },
  {
   "cell_type": "code",
   "execution_count": 14,
   "metadata": {
    "colab": {
     "base_uri": "https://localhost:8080/"
    },
    "executionInfo": {
     "elapsed": 41,
     "status": "ok",
     "timestamp": 1758209549624,
     "user": {
      "displayName": "Trisanu Bhar",
      "userId": "05203018208049743761"
     },
     "user_tz": -330
    },
    "id": "HOiVd4U3lfv-",
    "outputId": "6d025b50-1be6-468a-97c1-6f825afb7368"
   },
   "outputs": [
    {
     "name": "stdout",
     "output_type": "stream",
     "text": [
      "\n",
      "English word: dog\n",
      "  कुत्ते (0.6644)\n",
      "  जानवर (0.5866)\n",
      "  जानवरों (0.5026)\n",
      "  पशु (0.4985)\n",
      "  जंगली (0.4882)\n",
      "\n",
      "English word: house\n",
      "  हाउस (0.6089)\n",
      "  मकान (0.5561)\n",
      "  घर (0.5335)\n",
      "  भवन (0.5015)\n",
      "  कमरे (0.4690)\n",
      "\n",
      "English word: water\n",
      "  पानी (0.7322)\n",
      "  जल (0.7202)\n",
      "  गर्म (0.5184)\n",
      "  सिंचाई (0.5167)\n",
      "  पीने (0.4956)\n",
      "\n",
      "English word: school\n",
      "  स्कूल (0.7971)\n",
      "  विद्यालय (0.7270)\n",
      "  स्कूलों (0.6504)\n",
      "  कॉलेज (0.6167)\n",
      "  महाविद्यालय (0.6139)\n"
     ]
    }
   ],
   "source": [
    "# Examples\n",
    "for test_word in [\"dog\", \"house\", \"water\", \"school\"]:\n",
    "    print(f\"\\nEnglish word: {test_word}\")\n",
    "    if test_word in en_word2id:\n",
    "        translations = get_translation(test_word, k=5)\n",
    "        for w, s in translations:\n",
    "            print(f\"  {w} ({s:.4f})\")\n",
    "    else:\n",
    "        print(\"  Not in vocabulary\")"
   ]
  },
  {
   "cell_type": "code",
   "execution_count": 15,
   "metadata": {
    "executionInfo": {
     "elapsed": 2360,
     "status": "ok",
     "timestamp": 1758209552701,
     "user": {
      "displayName": "Trisanu Bhar",
      "userId": "05203018208049743761"
     },
     "user_tz": -330
    },
    "id": "qGcL1BhFljdw"
   },
   "outputs": [],
   "source": [
    "def evaluate(dictionary, k=5):\n",
    "    p1, p5 = 0, 0\n",
    "    for en_idx, hi_idx in dictionary:\n",
    "        vec = en_mapped[en_idx]\n",
    "        sims = hi_emb @ vec\n",
    "        best = sims.argsort()[-k:][::-1]\n",
    "        if hi_idx == best[0]:\n",
    "            p1 += 1\n",
    "        if hi_idx in best:\n",
    "            p5 += 1\n",
    "    n = len(dictionary)\n",
    "    return p1/n, p5/n\n",
    "\n",
    "p1, p5 = evaluate(seed, k=5)"
   ]
  },
  {
   "cell_type": "code",
   "execution_count": 16,
   "metadata": {
    "colab": {
     "base_uri": "https://localhost:8080/"
    },
    "executionInfo": {
     "elapsed": 22,
     "status": "ok",
     "timestamp": 1758209552711,
     "user": {
      "displayName": "Trisanu Bhar",
      "userId": "05203018208049743761"
     },
     "user_tz": -330
    },
    "id": "2Oxl_bCwpLOX",
    "outputId": "cb343e01-b2e4-437f-d42b-e5ba1581b105"
   },
   "outputs": [
    {
     "name": "stdout",
     "output_type": "stream",
     "text": [
      "\n",
      "Evaluation on dictionary (3572 pairs):\n",
      "  Precision@1 = 61.00%\n",
      "  Precision@5 = 89.50%\n"
     ]
    }
   ],
   "source": [
    "print(f\"\\nEvaluation on dictionary ({len(seed)} pairs):\")\n",
    "print(f\"  Precision@1 = {p1*100:.2f}%\")\n",
    "print(f\"  Precision@5 = {p5*100:.2f}%\")\n"
   ]
  },
  {
   "cell_type": "code",
   "execution_count": 17,
   "metadata": {
    "colab": {
     "base_uri": "https://localhost:8080/",
     "height": 1000
    },
    "executionInfo": {
     "elapsed": 3311,
     "status": "ok",
     "timestamp": 1758209556024,
     "user": {
      "displayName": "Trisanu Bhar",
      "userId": "05203018208049743761"
     },
     "user_tz": -330
    },
    "id": "6cJCNhvYpRE9",
    "outputId": "d32554bd-01d3-4bc7-a867-2f6cfc71f824"
   },
   "outputs": [
    {
     "name": "stderr",
     "output_type": "stream",
     "text": [
      "/usr/local/lib/python3.12/dist-packages/IPython/core/pylabtools.py:151: UserWarning: Glyph 2325 (\\N{DEVANAGARI LETTER KA}) missing from font(s) DejaVu Sans.\n",
      "  fig.canvas.print_figure(bytes_io, **kw)\n",
      "/usr/local/lib/python3.12/dist-packages/IPython/core/pylabtools.py:151: UserWarning: Matplotlib currently does not support Devanagari natively.\n",
      "  fig.canvas.print_figure(bytes_io, **kw)\n",
      "/usr/local/lib/python3.12/dist-packages/IPython/core/pylabtools.py:151: UserWarning: Glyph 2369 (\\N{DEVANAGARI VOWEL SIGN U}) missing from font(s) DejaVu Sans.\n",
      "  fig.canvas.print_figure(bytes_io, **kw)\n",
      "/usr/local/lib/python3.12/dist-packages/IPython/core/pylabtools.py:151: UserWarning: Glyph 2340 (\\N{DEVANAGARI LETTER TA}) missing from font(s) DejaVu Sans.\n",
      "  fig.canvas.print_figure(bytes_io, **kw)\n",
      "/usr/local/lib/python3.12/dist-packages/IPython/core/pylabtools.py:151: UserWarning: Glyph 2381 (\\N{DEVANAGARI SIGN VIRAMA}) missing from font(s) DejaVu Sans.\n",
      "  fig.canvas.print_figure(bytes_io, **kw)\n",
      "/usr/local/lib/python3.12/dist-packages/IPython/core/pylabtools.py:151: UserWarning: Glyph 2375 (\\N{DEVANAGARI VOWEL SIGN E}) missing from font(s) DejaVu Sans.\n",
      "  fig.canvas.print_figure(bytes_io, **kw)\n",
      "/usr/local/lib/python3.12/dist-packages/IPython/core/pylabtools.py:151: UserWarning: Glyph 2328 (\\N{DEVANAGARI LETTER GHA}) missing from font(s) DejaVu Sans.\n",
      "  fig.canvas.print_figure(bytes_io, **kw)\n",
      "/usr/local/lib/python3.12/dist-packages/IPython/core/pylabtools.py:151: UserWarning: Glyph 2352 (\\N{DEVANAGARI LETTER RA}) missing from font(s) DejaVu Sans.\n",
      "  fig.canvas.print_figure(bytes_io, **kw)\n",
      "/usr/local/lib/python3.12/dist-packages/IPython/core/pylabtools.py:151: UserWarning: Glyph 2346 (\\N{DEVANAGARI LETTER PA}) missing from font(s) DejaVu Sans.\n",
      "  fig.canvas.print_figure(bytes_io, **kw)\n",
      "/usr/local/lib/python3.12/dist-packages/IPython/core/pylabtools.py:151: UserWarning: Glyph 2366 (\\N{DEVANAGARI VOWEL SIGN AA}) missing from font(s) DejaVu Sans.\n",
      "  fig.canvas.print_figure(bytes_io, **kw)\n",
      "/usr/local/lib/python3.12/dist-packages/IPython/core/pylabtools.py:151: UserWarning: Glyph 2344 (\\N{DEVANAGARI LETTER NA}) missing from font(s) DejaVu Sans.\n",
      "  fig.canvas.print_figure(bytes_io, **kw)\n",
      "/usr/local/lib/python3.12/dist-packages/IPython/core/pylabtools.py:151: UserWarning: Glyph 2368 (\\N{DEVANAGARI VOWEL SIGN II}) missing from font(s) DejaVu Sans.\n",
      "  fig.canvas.print_figure(bytes_io, **kw)\n",
      "/usr/local/lib/python3.12/dist-packages/IPython/core/pylabtools.py:151: UserWarning: Glyph 2357 (\\N{DEVANAGARI LETTER VA}) missing from font(s) DejaVu Sans.\n",
      "  fig.canvas.print_figure(bytes_io, **kw)\n",
      "/usr/local/lib/python3.12/dist-packages/IPython/core/pylabtools.py:151: UserWarning: Glyph 2367 (\\N{DEVANAGARI VOWEL SIGN I}) missing from font(s) DejaVu Sans.\n",
      "  fig.canvas.print_figure(bytes_io, **kw)\n",
      "/usr/local/lib/python3.12/dist-packages/IPython/core/pylabtools.py:151: UserWarning: Glyph 2342 (\\N{DEVANAGARI LETTER DA}) missing from font(s) DejaVu Sans.\n",
      "  fig.canvas.print_figure(bytes_io, **kw)\n",
      "/usr/local/lib/python3.12/dist-packages/IPython/core/pylabtools.py:151: UserWarning: Glyph 2351 (\\N{DEVANAGARI LETTER YA}) missing from font(s) DejaVu Sans.\n",
      "  fig.canvas.print_figure(bytes_io, **kw)\n",
      "/usr/local/lib/python3.12/dist-packages/IPython/core/pylabtools.py:151: UserWarning: Glyph 2354 (\\N{DEVANAGARI LETTER LA}) missing from font(s) DejaVu Sans.\n",
      "  fig.canvas.print_figure(bytes_io, **kw)\n"
     ]
    },
    {
     "data": {
      "image/png": "[encoded data removed]",
      "text/plain": [
       "<Figure size 800x600 with 1 Axes>"
      ]
     },
     "metadata": {},
     "output_type": "display_data"
    }
   ],
   "source": [
    "import numpy as np\n",
    "import matplotlib.pyplot as plt\n",
    "from sklearn.decomposition import PCA\n",
    "\n",
    "# Pick a few test words\n",
    "test_words = [\"dog\", \"cat\", \"house\", \"water\", \"school\"]\n",
    "\n",
    "points_en, points_mapped, points_hi, labels = [], [], [], []\n",
    "for w in test_words:\n",
    "    if w in en_word2id:\n",
    "        en_idx = en_word2id[w]\n",
    "\n",
    "        matches = [hi_idx for (ei, hi_idx) in seed if ei == en_idx]\n",
    "        if not matches:\n",
    "            continue\n",
    "        hi_idx = matches[0]\n",
    "        points_en.append(en_emb[en_idx])\n",
    "        points_mapped.append(en_mapped[en_idx])\n",
    "        points_hi.append(hi_emb[hi_idx])\n",
    "        labels.append((w, hi_words[hi_idx]))\n",
    "\n",
    "\n",
    "all_points = np.vstack([points_en, points_mapped, points_hi])\n",
    "pca = PCA(n_components=2)\n",
    "reduced = pca.fit_transform(all_points)\n",
    "\n",
    "n = len(points_en)\n",
    "en_2d = reduced[:n]\n",
    "mapped_2d = reduced[n:2*n]\n",
    "hi_2d = reduced[2*n:]\n",
    "\n",
    "plt.figure(figsize=(8, 6))\n",
    "for i, (en_w, hi_w) in enumerate(labels):\n",
    "\n",
    "    plt.scatter(en_2d[i,0], en_2d[i,1], c=\"red\", marker=\"x\", label=\"English\" if i==0 else \"\")\n",
    "    plt.text(en_2d[i,0]+0.02, en_2d[i,1], en_w, fontsize=9, color=\"red\")\n",
    "\n",
    "    plt.scatter(mapped_2d[i,0], mapped_2d[i,1], c=\"blue\", marker=\"o\", label=\"Mapped English\" if i==0 else \"\")\n",
    "\n",
    "    plt.scatter(hi_2d[i,0], hi_2d[i,1], c=\"green\", marker=\"^\", label=\"Hindi\" if i==0 else \"\")\n",
    "    plt.text(hi_2d[i,0]+0.02, hi_2d[i,1], hi_w, fontsize=9, color=\"green\")\n",
    "\n",
    "    plt.arrow(en_2d[i,0], en_2d[i,1],\n",
    "              mapped_2d[i,0]-en_2d[i,0],\n",
    "              mapped_2d[i,1]-en_2d[i,1],\n",
    "              color=\"gray\", alpha=0.6, width=0.002, head_width=0.03)\n",
    "    plt.arrow(mapped_2d[i,0], mapped_2d[i,1],\n",
    "              hi_2d[i,0]-mapped_2d[i,0],\n",
    "              hi_2d[i,1]-mapped_2d[i,1],\n",
    "              color=\"black\", alpha=0.6, width=0.002, head_width=0.03)\n",
    "\n",
    "plt.legend()\n",
    "plt.title(\"English → Mapped → Hindi Embeddings (2D PCA)\")\n",
    "plt.show()\n"
   ]
  },
  {
   "cell_type": "code",
   "execution_count": 22,
   "metadata": {
    "executionInfo": {
     "elapsed": 34,
     "status": "ok",
     "timestamp": 1758209610676,
     "user": {
      "displayName": "Trisanu Bhar",
      "userId": "05203018208049743761"
     },
     "user_tz": -330
    },
    "id": "EEoqkOsfqT3Q"
   },
   "outputs": [],
   "source": [
    "import numpy as np\n",
    "\n",
    "def learn_linear_mapping(X, Y, reg=0.0):\n",
    "    \"\"\"\n",
    "    Learn a linear mapping W such that XW ≈ Y\n",
    "    X: (n, d) source embeddings (English)\n",
    "    Y: (n, d) target embeddings (Hindi)\n",
    "    reg: regularization strength (λ). Default 0 = no regularization.\n",
    "    \"\"\"\n",
    "    d = X.shape[1]\n",
    "\n",
    "    XtX = X.T @ X\n",
    "    if reg > 0:\n",
    "        XtX += reg * np.eye(d)\n",
    "    W = np.linalg.inv(XtX) @ (X.T @ Y)\n",
    "    return W"
   ]
  },
  {
   "cell_type": "code",
   "execution_count": 23,
   "metadata": {
    "colab": {
     "base_uri": "https://localhost:8080/"
    },
    "executionInfo": {
     "elapsed": 135,
     "status": "ok",
     "timestamp": 1758209621545,
     "user": {
      "displayName": "Trisanu Bhar",
      "userId": "05203018208049743761"
     },
     "user_tz": -330
    },
    "id": "fYLkJvVWrb4a",
    "outputId": "3aa60c70-10b8-4e1b-c44b-70f370d67870"
   },
   "outputs": [
    {
     "name": "stdout",
     "output_type": "stream",
     "text": [
      "Linear mapping shape: (300, 300)\n"
     ]
    }
   ],
   "source": [
    "\n",
    "X = np.array([en_emb[i] for i, _ in seed])\n",
    "Y = np.array([hi_emb[j] for _, j in seed])\n",
    "\n",
    "# Learn linear mapping\n",
    "W_lin = learn_linear_mapping(X, Y, reg=1e-5)\n",
    "print(\"Linear mapping shape:\", W_lin.shape)\n",
    "\n",
    "\n",
    "en_mapped_lin = en_emb @ W_lin\n",
    "\n",
    "en_mapped_lin = en_mapped_lin / (np.linalg.norm(en_mapped_lin, axis=1, keepdims=True) + 1e-8)"
   ]
  },
  {
   "cell_type": "code",
   "execution_count": 24,
   "metadata": {
    "executionInfo": {
     "elapsed": 64,
     "status": "ok",
     "timestamp": 1758209664114,
     "user": {
      "displayName": "Trisanu Bhar",
      "userId": "05203018208049743761"
     },
     "user_tz": -330
    },
    "id": "Yx_tXQKkrh5W"
   },
   "outputs": [],
   "source": [
    "import numpy as np\n",
    "\n",
    "def evaluate_mapping(W, en_emb, hi_emb, seed, k_list=[1,5]):\n",
    "    \"\"\"\n",
    "    Evaluate a mapping matrix W using dictionary seed pairs.\n",
    "\n",
    "    W: (d, d) mapping matrix\n",
    "    en_emb: (n_en, d) English embeddings\n",
    "    hi_emb: (n_hi, d) Hindi embeddings\n",
    "    seed: list of (en_idx, hi_idx) pairs\n",
    "    k_list: list of k values for precision@k\n",
    "    \"\"\"\n",
    "    en_mapped = en_emb @ W\n",
    "\n",
    "    en_mapped /= (np.linalg.norm(en_mapped, axis=1, keepdims=True) + 1e-8)\n",
    "    hi_emb_norm = hi_emb / (np.linalg.norm(hi_emb, axis=1, keepdims=True) + 1e-8)\n",
    "\n",
    "\n",
    "    X = np.array([en_mapped[i] for i, _ in seed])\n",
    "    Y_idx = np.array([j for _, j in seed])\n",
    "\n",
    "    sims = X @ hi_emb_norm.T\n",
    "\n",
    "    results = {}\n",
    "    for k in k_list:\n",
    "        topk = np.argpartition(-sims, k, axis=1)[:, :k]\n",
    "        correct = sum([Y_idx[i] in topk[i] for i in range(len(seed))])\n",
    "        results[f\"P@{k}\"] = correct / len(seed)\n",
    "    return results\n"
   ]
  },
  {
   "cell_type": "code",
   "execution_count": 25,
   "metadata": {
    "colab": {
     "base_uri": "https://localhost:8080/"
    },
    "executionInfo": {
     "elapsed": 632,
     "status": "ok",
     "timestamp": 1758209668657,
     "user": {
      "displayName": "Trisanu Bhar",
      "userId": "05203018208049743761"
     },
     "user_tz": -330
    },
    "id": "NrGO19_Tr1xM",
    "outputId": "ade6deb3-6655-4d63-eb1e-4a5eabcaaeb6"
   },
   "outputs": [
    {
     "name": "stdout",
     "output_type": "stream",
     "text": [
      "Linear mapping: {'P@1': 0.6013437849944009, 'P@5': 0.8824188129899216}\n"
     ]
    }
   ],
   "source": [
    "print(\"Linear mapping:\", evaluate_mapping(W_lin, en_emb, hi_emb, seed))"
   ]
  },
  {
   "cell_type": "code",
   "execution_count": 26,
   "metadata": {
    "executionInfo": {
     "elapsed": 75,
     "status": "ok",
     "timestamp": 1758209677404,
     "user": {
      "displayName": "Trisanu Bhar",
      "userId": "05203018208049743761"
     },
     "user_tz": -330
    },
    "id": "B_ZLtdg8r7mA"
   },
   "outputs": [],
   "source": [
    "import numpy as np\n",
    "\n",
    "hi_id2word = {idx: word for word, idx in hi_word2id.items()}\n",
    "\n",
    "def get_translation_linear(word, en_emb, hi_emb, en_word2id, hi_id2word, k=5):\n",
    "    \"\"\"\n",
    "    Get top-k translations of an English word using cosine similarity.\n",
    "\n",
    "    Args:\n",
    "        word (str): English word to translate\n",
    "        en_emb (np.array): mapped English embeddings (n_words, d)\n",
    "        hi_emb (np.array): Hindi embeddings (n_words, d)\n",
    "        en_word2id (dict): mapping from English word -> index\n",
    "        hi_id2word (dict): mapping from Hindi index -> word\n",
    "        k (int): number of nearest neighbors to return\n",
    "\n",
    "    Returns:\n",
    "        List of (Hindi_word, similarity) tuples\n",
    "    \"\"\"\n",
    "    if word not in en_word2id:\n",
    "        return []\n",
    "\n",
    "    idx = en_word2id[word]\n",
    "    vec = en_emb[idx]\n",
    "\n",
    "    hi_emb_norm = hi_emb / (np.linalg.norm(hi_emb, axis=1, keepdims=True) + 1e-8)\n",
    "\n",
    "\n",
    "    sim = hi_emb_norm @ vec\n",
    "    top_k_idx = np.argsort(sim)[-k:][::-1]\n",
    "\n",
    "    results = [(hi_id2word[i], sim[i]) for i in top_k_idx]\n",
    "    return results\n"
   ]
  },
  {
   "cell_type": "code",
   "execution_count": 27,
   "metadata": {
    "colab": {
     "base_uri": "https://localhost:8080/"
    },
    "executionInfo": {
     "elapsed": 101,
     "status": "ok",
     "timestamp": 1758209682223,
     "user": {
      "displayName": "Trisanu Bhar",
      "userId": "05203018208049743761"
     },
     "user_tz": -330
    },
    "id": "zWss35Q_ZCgf",
    "outputId": "c2d5b514-c828-48d7-d6f6-e5a7a8b72cfc"
   },
   "outputs": [
    {
     "name": "stdout",
     "output_type": "stream",
     "text": [
      "\n",
      "English word: dog\n",
      "  कुत्ते (0.7432)\n",
      "  जानवर (0.6670)\n",
      "  जानवरों (0.6154)\n",
      "  पशु (0.5818)\n",
      "  भालू (0.5813)\n",
      "\n",
      "English word: house\n",
      "  घर (0.6732)\n",
      "  हाउस (0.6590)\n",
      "  मकान (0.6545)\n",
      "  कमरे (0.5907)\n",
      "  भवन (0.5729)\n",
      "\n",
      "English word: water\n",
      "  पानी (0.8006)\n",
      "  जल (0.7565)\n",
      "  गर्म (0.6208)\n",
      "  सिंचाई (0.6110)\n",
      "  हवा (0.5678)\n",
      "\n",
      "English word: school\n",
      "  स्कूल (0.8344)\n",
      "  विद्यालय (0.7475)\n",
      "  स्कूलों (0.7389)\n",
      "  कॉलेज (0.7080)\n",
      "  महाविद्यालय (0.6943)\n"
     ]
    }
   ],
   "source": [
    "for test_word in [\"dog\", \"house\", \"water\", \"school\"]:\n",
    "    print(f\"\\nEnglish word: {test_word}\")\n",
    "    translations = get_translation_linear(\n",
    "        test_word, en_mapped_lin, hi_emb, en_word2id, hi_id2word, k=5\n",
    "    )\n",
    "    if translations:\n",
    "        for w, s in translations:\n",
    "            print(f\"  {w} ({s:.4f})\")\n",
    "    else:\n",
    "        print(\"  Not in vocabulary\")\n"
   ]
  },
  {
   "cell_type": "code",
   "execution_count": 28,
   "metadata": {
    "colab": {
     "base_uri": "https://localhost:8080/"
    },
    "executionInfo": {
     "elapsed": 235482,
     "status": "ok",
     "timestamp": 1758209917916,
     "user": {
      "displayName": "Trisanu Bhar",
      "userId": "05203018208049743761"
     },
     "user_tz": -330
    },
    "id": "1rwmTrfAZGD8",
    "outputId": "50b2ff5c-a918-4569-e956-30c208e40f53"
   },
   "outputs": [
    {
     "name": "stdout",
     "output_type": "stream",
     "text": [
      "Projected English shape: (3572, 100)\n",
      "Projected Hindi shape: (3572, 100)\n",
      "CCA English vocab shape: (5000, 100)\n",
      "CCA Hindi vocab shape: (5000, 100)\n"
     ]
    }
   ],
   "source": [
    "import numpy as np\n",
    "from sklearn.cross_decomposition import CCA\n",
    "\n",
    "def learn_cca_mapping(X, Y, n_components=100):\n",
    "    \"\"\"\n",
    "    Learn CCA mapping for bilingual embeddings.\n",
    "\n",
    "    Args:\n",
    "        X: (n, d) matrix of English embeddings (seed dictionary aligned)\n",
    "        Y: (n, d) matrix of Hindi embeddings\n",
    "        n_components: latent dimension for CCA\n",
    "\n",
    "    Returns:\n",
    "        X_proj: projected English embeddings\n",
    "        Y_proj: projected Hindi embeddings\n",
    "        cca: trained CCA model\n",
    "    \"\"\"\n",
    "    cca = CCA(n_components=n_components, max_iter=1000)\n",
    "    X_proj, Y_proj = cca.fit_transform(X, Y)\n",
    "    return X_proj, Y_proj, cca\n",
    "\n",
    "\n",
    "# Example\n",
    "X = np.array([en_emb[i] for i, _ in seed])\n",
    "Y = np.array([hi_emb[j] for _, j in seed])\n",
    "\n",
    "\n",
    "X_proj, Y_proj, cca_model = learn_cca_mapping(X, Y, n_components=100)\n",
    "print(\"Projected English shape:\", X_proj.shape)\n",
    "print(\"Projected Hindi shape:\", Y_proj.shape)\n",
    "\n",
    "\n",
    "en_emb_cca, hi_emb_cca = cca_model.transform(en_emb, hi_emb)\n",
    "print(\"CCA English vocab shape:\", en_emb_cca.shape)\n",
    "print(\"CCA Hindi vocab shape:\", hi_emb_cca.shape)\n"
   ]
  },
  {
   "cell_type": "code",
   "execution_count": 29,
   "metadata": {
    "executionInfo": {
     "elapsed": 57,
     "status": "ok",
     "timestamp": 1758209917998,
     "user": {
      "displayName": "Trisanu Bhar",
      "userId": "05203018208049743761"
     },
     "user_tz": -330
    },
    "id": "mVZMM8DGRsWi"
   },
   "outputs": [],
   "source": [
    "import numpy as np\n",
    "\n",
    "def get_translation_cca(word, en_emb_cca, hi_emb_cca, en_word2id, hi_id2word, k=5):\n",
    "    \"\"\"\n",
    "    Retrieve top-k Hindi translations for a given English word in the CCA space.\n",
    "\n",
    "    Args:\n",
    "        word (str): English word to translate\n",
    "        en_emb_cca (np.array): projected English embeddings (V_en, d)\n",
    "        hi_emb_cca (np.array): projected Hindi embeddings (V_hi, d)\n",
    "        en_word2id (dict): mapping from English word to index\n",
    "        hi_id2word (dict): mapping from Hindi index to word\n",
    "        k (int): number of translations to retrieve\n",
    "\n",
    "    Returns:\n",
    "        List of (Hindi word, cosine similarity) pairs\n",
    "    \"\"\"\n",
    "    if word not in en_word2id:\n",
    "        return []\n",
    "\n",
    "    idx = en_word2id[word]\n",
    "    query_vec = en_emb_cca[idx]\n",
    "\n",
    "\n",
    "    sims = hi_emb_cca @ query_vec / (\n",
    "        np.linalg.norm(hi_emb_cca, axis=1) * np.linalg.norm(query_vec) + 1e-8\n",
    "    )\n",
    "\n",
    "\n",
    "    top_k_idx = np.argsort(-sims)[:k]\n",
    "    translations = [(hi_id2word[i], float(sims[i])) for i in top_k_idx]\n",
    "\n",
    "    return translations"
   ]
  },
  {
   "cell_type": "code",
   "execution_count": 30,
   "metadata": {
    "colab": {
     "base_uri": "https://localhost:8080/"
    },
    "executionInfo": {
     "elapsed": 40,
     "status": "ok",
     "timestamp": 1758209918052,
     "user": {
      "displayName": "Trisanu Bhar",
      "userId": "05203018208049743761"
     },
     "user_tz": -330
    },
    "id": "lp4bQFI5TRZV",
    "outputId": "8b8244da-c3c4-4704-c7fb-dd040b8acf06"
   },
   "outputs": [
    {
     "name": "stdout",
     "output_type": "stream",
     "text": [
      "\n",
      "English word: dog\n",
      "  कुत्ते (0.8509)\n",
      "  जानवर (0.6706)\n",
      "  जानवरों (0.6397)\n",
      "  भालू (0.6203)\n",
      "  पशु (0.6120)\n",
      "\n",
      "English word: house\n",
      "  हाउस (0.8051)\n",
      "  घर (0.7183)\n",
      "  मकान (0.6777)\n",
      "  घरों (0.6143)\n",
      "  कमरे (0.5566)\n",
      "\n",
      "English word: water\n",
      "  पानी (0.8924)\n",
      "  जल (0.8911)\n",
      "  सिंचाई (0.6623)\n",
      "  गर्म (0.6494)\n",
      "  नदियों (0.5652)\n",
      "\n",
      "English word: school\n",
      "  स्कूल (0.9416)\n",
      "  विद्यालय (0.8810)\n",
      "  स्कूलों (0.8257)\n",
      "  महाविद्यालय (0.7198)\n",
      "  माध्यमिक (0.7151)\n"
     ]
    }
   ],
   "source": [
    "# Test words\n",
    "for test_word in [\"dog\", \"house\", \"water\", \"school\"]:\n",
    "    print(f\"\\nEnglish word: {test_word}\")\n",
    "    translations = get_translation_cca(\n",
    "        test_word, en_emb_cca, hi_emb_cca, en_word2id, hi_id2word, k=5\n",
    "    )\n",
    "    if translations:\n",
    "        for w, s in translations:\n",
    "            print(f\"  {w} ({s:.4f})\")\n",
    "    else:\n",
    "        print(\"  Not in vocabulary\")"
   ]
  },
  {
   "cell_type": "code",
   "execution_count": 31,
   "metadata": {
    "colab": {
     "base_uri": "https://localhost:8080/"
    },
    "executionInfo": {
     "elapsed": 1073,
     "status": "ok",
     "timestamp": 1758210479304,
     "user": {
      "displayName": "Trisanu Bhar",
      "userId": "05203018208049743761"
     },
     "user_tz": -330
    },
    "id": "wwsRHdn0TUgH",
    "outputId": "9e92a226-5b69-45db-d2b8-c4438cb45e2d"
   },
   "outputs": [
    {
     "name": "stdout",
     "output_type": "stream",
     "text": [
      "CCA mapping: {'P@1': 0.6122620380739082, 'P@5': 0.9185330347144457}\n"
     ]
    }
   ],
   "source": [
    "def evaluate_mapping_cca(en_emb_proj, hi_emb_proj, seed, k_list=[1,5]):\n",
    "    # X: mapped English seed embeddings\n",
    "    X = np.array([en_emb_proj[i] for i, _ in seed])\n",
    "    Y_idx = np.array([j for _, j in seed])\n",
    "    sims = X @ hi_emb_proj.T\n",
    "    results = {}\n",
    "    for k in k_list:\n",
    "        topk = np.argpartition(-sims, k, axis=1)[:, :k]\n",
    "        correct = sum([Y_idx[i] in topk[i] for i in range(len(seed))])\n",
    "        results[f\"P@{k}\"] = correct / len(seed)\n",
    "    return results\n",
    "\n",
    "# Example usage\n",
    "results_cca = evaluate_mapping_cca(en_emb_cca, hi_emb_cca, seed)\n",
    "print(\"CCA mapping:\", results_cca)"
   ]
  },
  {
   "cell_type": "code",
   "execution_count": null,
   "metadata": {
    "id": "TIZmJ89VXDbU"
   },
   "outputs": [],
   "source": []
  }
 ],
 "metadata": {
  "colab": {
   "authorship_tag": "ABX9TyMaKB5EJjqNGjyD0W8kdLo+",
   "mount_file_id": "19fop_Ys41zA1LpWZ_tPdbhrZmwiBsAfJ",
   "provenance": []
  },
  "kernelspec": {
   "display_name": "Python 3",
   "name": "python3"
  },
  "language_info": {
   "name": "python"
  }
 },
 "nbformat": 4,
 "nbformat_minor": 0
}
